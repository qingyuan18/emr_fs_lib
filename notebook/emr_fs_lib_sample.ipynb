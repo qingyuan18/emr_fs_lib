{
 "cells": [
  {
   "cell_type": "markdown",
   "id": "6b56e390",
   "metadata": {},
   "source": [
    "## 0.Spark Magic basic configuration"
   ]
  },
  {
   "cell_type": "code",
   "execution_count": 1,
   "id": "dd511714",
   "metadata": {},
   "outputs": [
    {
     "data": {
      "text/html": [
       "Current session configs: <tt>{'conf': {'spark.jars': 'hdfs:///user/hadoop/spark-tfrecord_2.12-0.3.0.jar, hdfs:///user/hadoop/httpclient-4.5.9.jar, hdfs:///user/hadoop/hudi-spark-bundle.jar,hdfs:///user/hadoop/spark-avro.jar', 'spark.submit.pyFiles': 's3://emrfssampledata/conf/emr_fs.zip', 'spark.sql.hive.convertMetastoreParquet': 'false', 'spark.serializer': 'org.apache.spark.serializer.KryoSerializer'}, 'kind': 'pyspark'}</tt><br>"
      ],
      "text/plain": [
       "<IPython.core.display.HTML object>"
      ]
     },
     "metadata": {},
     "output_type": "display_data"
    },
    {
     "data": {
      "text/html": [
       "No active sessions."
      ],
      "text/plain": [
       "<IPython.core.display.HTML object>"
      ]
     },
     "metadata": {},
     "output_type": "display_data"
    }
   ],
   "source": [
    "%%configure -f\n",
    "{\n",
    "    \"conf\":  { \n",
    "             \"spark.jars\":\"hdfs:///user/hadoop/spark-tfrecord_2.12-0.3.0.jar, hdfs:///user/hadoop/httpclient-4.5.9.jar, hdfs:///user/hadoop/hudi-spark-bundle.jar,hdfs:///user/hadoop/spark-avro.jar\",\n",
    "             \"spark.submit.pyFiles\":\"s3://emrfssampledata/conf/emr_fs.zip\",\n",
    "             \"spark.sql.hive.convertMetastoreParquet\":\"false\",     \n",
    "             \"spark.serializer\":\"org.apache.spark.serializer.KryoSerializer\"\n",
    "           } \n",
    "}"
   ]
  },
  {
   "cell_type": "markdown",
   "id": "7038e9d0",
   "metadata": {},
   "source": [
    "## 1.test feature group creation"
   ]
  },
  {
   "cell_type": "code",
   "execution_count": 3,
   "id": "ae3387a7",
   "metadata": {},
   "outputs": [
    {
     "data": {
      "application/vnd.jupyter.widget-view+json": {
       "model_id": "",
       "version_major": 2,
       "version_minor": 0
      },
      "text/plain": [
       "FloatProgress(value=0.0, bar_style='info', description='Progress:', layout=Layout(height='25px', width='50%'),…"
      ]
     },
     "metadata": {},
     "output_type": "display_data"
    },
    {
     "name": "stdout",
     "output_type": "stream",
     "text": [
      "created feature group:customer_base\n",
      "*************feature group details*************\n",
      "feature store name:emr_feature_store\n",
      "feature group name:customer_base\n",
      "feature_unique_key:customer_id\n",
      "feature_partition_key:dt\n",
      "all features:\n",
      "   customer_id:int\n",
      "   city_code:int\n",
      "   state_code:string\n",
      "   country_code:string\n",
      "   dt:string\n",
      "***********************************************"
     ]
    }
   ],
   "source": [
    "import sys\n",
    "from emr_fs.feature_store import FeatureStore\n",
    "from emr_fs.client import Client\n",
    "client=Client('kernal')\n",
    "emr_fs01 = client.connect_to_feature_store(\"emr_feature_store\")\n",
    "#emr_fg01 = emr_fs01.get_feature_group(\"customer_base\")\n",
    "#test create feature group\n",
    "features01={\"customer_id\":\"int\",\"city_code\":\"int\",\"state_code\":\"string\",\"country_code\":\"string\",\"dt\":\"string\"}\n",
    "emr_fg01 = client.create_feature_group(\"customer_base\",\"\",\"customer_id\",\"dt\",features01)\n",
    "emr_fg01.print_info()"
   ]
  },
  {
   "cell_type": "markdown",
   "id": "afca731c",
   "metadata": {},
   "source": [
    "## 2.test connect to exsiting feature group"
   ]
  },
  {
   "cell_type": "code",
   "execution_count": 4,
   "id": "938596a5",
   "metadata": {},
   "outputs": [
    {
     "data": {
      "application/vnd.jupyter.widget-view+json": {
       "model_id": "",
       "version_major": 2,
       "version_minor": 0
      },
      "text/plain": [
       "FloatProgress(value=0.0, bar_style='info', description='Progress:', layout=Layout(height='25px', width='50%'),…"
      ]
     },
     "metadata": {},
     "output_type": "display_data"
    },
    {
     "name": "stdout",
     "output_type": "stream",
     "text": [
      "*************feature group details*************\n",
      "feature store name:emr_feature_store\n",
      "feature group name:customer_advance\n",
      "feature_unique_key:customer_id\n",
      "feature_partition_key:dt\n",
      "all features:\n",
      "   dt:STRING\n",
      "   customer_id:INT\n",
      "   age:INT\n",
      "   diabetes:STRING\n",
      "   ejection_fraction:STRING\n",
      "   high_blood_pressure:STRING\n",
      "   platelets:STRING\n",
      "   sex:STRING\n",
      "   smoking:STRING\n",
      "   death_event:STRING\n",
      "***********************************************"
     ]
    }
   ],
   "source": [
    "   emr_fg02= emr_fs01.get_feature_group(\"customer_advance\")\n",
    "   emr_fg02.print_info()"
   ]
  },
  {
   "cell_type": "markdown",
   "id": "d6988e92",
   "metadata": {},
   "source": [
    "## 3.test feature group ingestion"
   ]
  },
  {
   "cell_type": "code",
   "execution_count": 5,
   "id": "9b968f53",
   "metadata": {},
   "outputs": [
    {
     "data": {
      "application/vnd.jupyter.widget-view+json": {
       "model_id": "",
       "version_major": 2,
       "version_minor": 0
      },
      "text/plain": [
       "FloatProgress(value=0.0, bar_style='info', description='Progress:', layout=Layout(height='25px', width='50%'),…"
      ]
     },
     "metadata": {},
     "output_type": "display_data"
    },
    {
     "name": "stdout",
     "output_type": "stream",
     "text": [
      "feature_partition_key:dt\n",
      "feature_unique_key:customer_id\n",
      "{'hoodie.datasource.write.precombine.field': 'dt', 'hoodie.datasource.write.recordkey.field': 'customer_id', 'hoodie.datasource.write.partitionpath.field': 'dt', 'hoodie.table.name': 'customer_base', 'hoodie.datasource.hive_sync.partition_extractor_class': 'org.apache.hudi.hive.MultiPartKeysValueExtractor', 'hoodie.datasource.hive_sync.enable': 'true', 'hoodie.datasource.hive_sync.table': 'customer_base', 'hoodie.datasource.hive_sync.database': 'emr_feature_store', 'hoodie.datasource.hive_sync.partition_fields': 'dt', 'hoodie.datasource.write.operation': 'upsert', 'hoodie.mergeSchema': 'true'}\n",
      "root\n",
      " |-- customer_id: integer (nullable = true)\n",
      " |-- city_code: integer (nullable = true)\n",
      " |-- state_code: string (nullable = true)\n",
      " |-- country_code: string (nullable = true)\n",
      " |-- dt: string (nullable = true)\n",
      "\n",
      "None"
     ]
    }
   ],
   "source": [
    "   #test feature group ingestion\n",
    "   source_feature_group_dataset = \"s3://emrfssampledata/feature_store_customer_base.csv\"\n",
    "   emr_fg01.ingestion(source_feature_group_dataset,\"overwrite\")\n",
    "   #source_feature_group_dataset = \"s3://emrfssampledata/feature_store_customer_advance.csv\"\n",
    "   #emr_fg02.ingestion(source_feature_group_dataset,\"overwrite\")\n",
    "\n"
   ]
  },
  {
   "cell_type": "markdown",
   "id": "71151381",
   "metadata": {},
   "source": [
    "## 4.test add new feature "
   ]
  },
  {
   "cell_type": "code",
   "execution_count": 6,
   "id": "4d7c737a",
   "metadata": {
    "scrolled": true
   },
   "outputs": [
    {
     "data": {
      "application/vnd.jupyter.widget-view+json": {
       "model_id": "",
       "version_major": 2,
       "version_minor": 0
      },
      "text/plain": [
       "FloatProgress(value=0.0, bar_style='info', description='Progress:', layout=Layout(height='25px', width='50%'),…"
      ]
     },
     "metadata": {},
     "output_type": "display_data"
    },
    {
     "name": "stdout",
     "output_type": "stream",
     "text": [
      "sql===alter table emr_feature_store.customer_base add columns (identify_code string)\n",
      "added new feature:identify_code string\n",
      "feature_partition_key:dt\n",
      "feature_unique_key:customer_id\n",
      "{'hoodie.datasource.write.precombine.field': 'dt', 'hoodie.datasource.write.recordkey.field': 'customer_id', 'hoodie.datasource.write.partitionpath.field': 'dt', 'hoodie.table.name': 'customer_base', 'hoodie.datasource.hive_sync.partition_extractor_class': 'org.apache.hudi.hive.MultiPartKeysValueExtractor', 'hoodie.datasource.hive_sync.enable': 'true', 'hoodie.datasource.hive_sync.table': 'customer_base', 'hoodie.datasource.hive_sync.database': 'emr_feature_store', 'hoodie.datasource.hive_sync.partition_fields': 'dt', 'hoodie.datasource.write.operation': 'upsert', 'hoodie.mergeSchema': 'true'}\n",
      "root\n",
      " |-- customer_id: integer (nullable = true)\n",
      " |-- city_code: integer (nullable = true)\n",
      " |-- state_code: string (nullable = true)\n",
      " |-- country_code: string (nullable = true)\n",
      " |-- dt: string (nullable = true)\n",
      " |-- identify_code: string (nullable = true)\n",
      "\n",
      "None"
     ]
    }
   ],
   "source": [
    "   #test add feature\n",
    "   emr_fg01.add_feature(\"identify_code\",\"string\")\n",
    "   update_feature_group_dataset = \"s3://emrfssampledata/feature_store_customer_base_update.csv\"\n",
    "   emr_fg01.ingestion(update_feature_group_dataset,\"append\")"
   ]
  },
  {
   "cell_type": "markdown",
   "id": "f0339d57",
   "metadata": {},
   "source": [
    "## 5.test feature group filter & time travel & join query "
   ]
  },
  {
   "cell_type": "code",
   "execution_count": 7,
   "id": "1ce48a0d",
   "metadata": {},
   "outputs": [
    {
     "data": {
      "application/vnd.jupyter.widget-view+json": {
       "model_id": "",
       "version_major": 2,
       "version_minor": 0
      },
      "text/plain": [
       "FloatProgress(value=0.0, bar_style='info', description='Progress:', layout=Layout(height='25px', width='50%'),…"
      ]
     },
     "metadata": {},
     "output_type": "display_data"
    },
    {
     "name": "stdout",
     "output_type": "stream",
     "text": [
      "full_query sql is:select emr_feature_store.customer_base.customer_id,emr_feature_store.customer_base.city_code,emr_feature_store.customer_base.state_code,emr_feature_store.customer_base.country_code,emr_feature_store.customer_base.dt,emr_feature_store.customer_base.identify_code from emr_feature_store.customer_base where  customer_base._hoodie_commit_time>='20211201000000' and customer_base._hoodie_commit_time <='20220118000000'\n",
      "+-----------+---------+----------+------------+--------+-------------+\n",
      "|customer_id|city_code|state_code|country_code|      dt|identify_code|\n",
      "+-----------+---------+----------+------------+--------+-------------+\n",
      "|     124013|        4|         5|           2|20210305|         null|\n",
      "|     109382|        2|        40|           2|20210212|  51109873784|\n",
      "|     109365|        2|         5|           5|20210311|         null|\n",
      "|     109367|        2|         5|           3|20210211|  51109873794|\n",
      "|     573291|        1|        49|           2|20210211|  51109873783|\n",
      "|     109366|        2|        40|           4|20210312|  51109873793|\n",
      "|     124014|        4|        31|           1|20210306|         null|\n",
      "|     828400|        3|        31|           2|20210304|         null|\n",
      "|     828412|        4|        31|           3|20210307|  51109873788|\n",
      "|     828414|        3|        31|           5|20210307|  51109873790|\n",
      "|     828413|        3|        31|           1|20210307|  51109873789|\n",
      "|     828415|        3|         5|           2|20210307|         null|\n",
      "+-----------+---------+----------+------------+--------+-------------+"
     ]
    }
   ],
   "source": [
    "   #test query feature group\n",
    "   #emr_fg01.select_all().show(0)\n",
    "   #emr_fg01.select([\"customer_id\",\"city_code\",\"state_code\",\"identify_code\"]).show(0)\n",
    "   #test feature group time travel query\n",
    "   emr_fg01.select_all().timeQuery(\"20211201000000\",\"20220118000000\").show(0)\n",
    "   #test join\n",
    "   #emr_fg01.select([\"customer_id\",\"city_code\",\"state_code\"]).join(emr_fg02.select([\"age\",\"diabetes\"]),\"customer_id\").show(5)\n",
    "   "
   ]
  },
  {
   "cell_type": "markdown",
   "id": "ba616a79",
   "metadata": {},
   "source": [
    "## 6.test training dataset retriving"
   ]
  },
  {
   "cell_type": "code",
   "execution_count": 25,
   "id": "28a1a8ee",
   "metadata": {},
   "outputs": [
    {
     "data": {
      "application/vnd.jupyter.widget-view+json": {
       "model_id": "",
       "version_major": 2,
       "version_minor": 0
      },
      "text/plain": [
       "FloatProgress(value=0.0, bar_style='info', description='Progress:', layout=Layout(height='25px', width='50%'),…"
      ]
     },
     "metadata": {},
     "output_type": "display_data"
    },
    {
     "name": "stdout",
     "output_type": "stream",
     "text": [
      "full_query sql is:select emr_feature_store.customer_base.customer_id,emr_feature_store.customer_base.city_code,emr_feature_store.customer_base.state_code,emr_feature_store.customer_base.identify_code,emr_feature_store.customer_advance.age,emr_feature_store.customer_advance.diabetes from emr_feature_store.customer_base left join emr_feature_store.customer_advance on emr_feature_store.customer_base.customer_id=emr_feature_store.customer_advance.customer_id where  customer_base._hoodie_commit_time>='20211201000000' and customer_base._hoodie_commit_time <='20220130000000'"
     ]
    }
   ],
   "source": [
    "#test train dataset retrive\n",
    "#emr_fg02.select_all().create_training_dataset(name = \"userProfile dataset\",\\\n",
    "#               data_format = \"tfrecord\",\\\n",
    "#               startDt=\"20211201000000\",\\\n",
    "#               endDt= \"20220116000000\",\\\n",
    "#               outputLoc = \"s3://emrfssampledata/traindataset/output\")\n",
    "emr_fg01.select([\"customer_id\",\"city_code\",\"state_code\",\"identify_code\"]).join(emr_fg02.select([\"age\",\"diabetes\"]),\"customer_id\")\\\n",
    "                 .create_training_dataset(name = \"userProfile dataset\",\\\n",
    "                                                data_format = \"csv\",\\\n",
    "                                                startDt=\"20211201000000\",\\\n",
    "                                                endDt= \"20220130000000\",\\\n",
    "                                                outputLoc = \"s3://emrfssampledata/traindataset/output\")"
   ]
  }
 ],
 "metadata": {
  "kernelspec": {
   "display_name": "Sparkmagic (PySpark)",
   "language": "python",
   "name": "pysparkkernel"
  },
  "language_info": {
   "codemirror_mode": {
    "name": "python",
    "version": 3
   },
   "file_extension": ".py",
   "mimetype": "text/x-python",
   "name": "pyspark",
   "pygments_lexer": "python3"
  }
 },
 "nbformat": 4,
 "nbformat_minor": 5
}
